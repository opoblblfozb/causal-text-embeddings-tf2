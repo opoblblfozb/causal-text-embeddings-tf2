{
 "cells": [
  {
   "cell_type": "code",
   "execution_count": 22,
   "metadata": {},
   "outputs": [],
   "source": [
    "import os\n",
    "import json\n",
    "import pandas as pd\n",
    "import numpy as np"
   ]
  },
  {
   "cell_type": "code",
   "execution_count": 23,
   "metadata": {},
   "outputs": [],
   "source": [
    "datafile = os.path.join('..', 'dat', '2018')\n",
    "\n",
    "with open(datafile, 'r') as f:\n",
    "    record_dicts = []\n",
    "    for line in f.readlines():\n",
    "        record = json.loads(line)\n",
    "        reply_list = record['reply']\n",
    "        earliest_reply_text = None\n",
    "        for reply_dict in sorted(reply_list, key=lambda x: x['created_utc']):\n",
    "            if reply_dict['body'] != '[deleted]' and reply_dict['body'] != '[removed]':\n",
    "                earliest_reply_text = reply_dict['body']\n",
    "            if earliest_reply_text:\n",
    "                break\n",
    "        if earliest_reply_text:\n",
    "            record.pop('reply')\n",
    "            record['reply_text'] = earliest_reply_text\n",
    "            record_dicts.append(record)"
   ]
  },
  {
   "cell_type": "code",
   "execution_count": 24,
   "metadata": {},
   "outputs": [],
   "source": [
    "reddit_df = pd.DataFrame(record_dicts)\n",
    "reddit_df = reddit_df[reddit_df.body != '[deleted]']\n",
    "reddit_df = reddit_df.astype({'score':np.int64, 'controversiality':np.int64, 'gilded':np.int64, 'created_utc':np.int64})"
   ]
  },
  {
   "cell_type": "code",
   "execution_count": 25,
   "metadata": {},
   "outputs": [],
   "source": [
    "from google.cloud import language\n",
    "from google.cloud.language import enums\n",
    "from google.cloud.language import types\n",
    "client = language.LanguageServiceClient()"
   ]
  },
  {
   "cell_type": "code",
   "execution_count": 61,
   "metadata": {},
   "outputs": [],
   "source": [
    "replies = reddit_df[['body','reply_text']].values\n",
    "indices = np.arange(len(replies))\n",
    "np.random.shuffle(indices)\n",
    "random_idx = indices[:10]"
   ]
  },
  {
   "cell_type": "code",
   "execution_count": 63,
   "metadata": {},
   "outputs": [
    {
     "name": "stdout",
     "output_type": "stream",
     "text": [
      "OP: How much our bridal party could drink when given the news they had an open bar tab. That was a couple thousand extra we didn’t expect to spend.\n",
      "\n",
      "\n",
      "Actual married life is exactly the same as before we were married since we lived together and shared finances well before marrying. \n",
      "Text: I wonder if it would be a good idea to just say it's a discounted bar or something and then at the end reveal it was an open bar.\n",
      "Sentiment: -0.30000001192092896, 0.30000001192092896\n",
      "****************************************\n",
      "OP: excuse me but this is a christian subreddit\n",
      "Text: But they said no homo\n",
      "Sentiment: 0.30000001192092896, 0.30000001192092896\n",
      "****************************************\n",
      "OP: I don't buy that the inches=pounds thing is real but if you want to add some scientific information to this, for me, one inch was equal to 6.1lbs when I took my starting weight and measurements.\n",
      "Text: Until I get an accurate scale, I think I'm going to try to do an average of the three numbers I've heard so far. That will at least give me a starting point so I can chart how far I've come. Thanks!\n",
      "Sentiment: 0.10000000149011612, 0.5\n",
      "****************************************\n",
      "OP: My SO referred to my mixed race roommate as \"half-caste\". He didn't realise that was considered offensive by some, it was what everyone at his school said.\n",
      "Text: Did you explain to him why it was offensive? I’ve noticed a lot of ppl say things that others say around them. \n",
      "Sentiment: -0.10000000149011612, 1.0\n",
      "****************************************\n",
      "OP: I get like that every shark week!! If you have to, up your calories to maintenance :)\n",
      "Text: How do I adjust my macros? I don't want to eat too much fat lol\n",
      "Sentiment: -0.10000000149011612, 0.20000000298023224\n",
      "****************************************\n",
      "OP: Only problem I have with it is the repetition/inconsistency of “ask(ed)”. Aside from that, seems like a real conversation I could see people having. Nice work :)\n",
      "Text: I'm trying to cut down on my repetition and more on letting the reader assume it was a question rather than having it say that instead. Thanks. \n",
      "Sentiment: 0.0, 0.5\n",
      "****************************************\n",
      "OP: This week I'm listening David Bowie, Nesrin Sipahi, Run DMC.\n",
      "Text: Run DMC :) YES! \n",
      "Sentiment: 0.30000001192092896, 0.6000000238418579\n",
      "****************************************\n",
      "OP: Pursuing the things you want to pursue, whether that’s love, fun, success, or anything else. Being willing to take risks in that pursuit.\n",
      "Text: Lots of ppl mentioning taking risks in this thread. What exactly do you mean by that?\n",
      "Sentiment: 0.0, 0.10000000149011612\n",
      "****************************************\n",
      "OP: It's a toss up between my diploma and my wedding ring.\n",
      "Text: I still have yet to pick up my diploma from my college and I graduated in 2012...\n",
      "Sentiment: 0.30000001192092896, 0.30000001192092896\n",
      "****************************************\n",
      "OP: Hate it. Partly to do with my other mental illnesses, but have trouble with hygiene in general.\n",
      "Text: How do you mean? If you don't mind sharing, that is. \n",
      "Sentiment: 0.0, 0.10000000149011612\n",
      "****************************************\n"
     ]
    }
   ],
   "source": [
    "for idx in random_idx:\n",
    "    op = replies[idx][0]\n",
    "    post = replies[idx][1]\n",
    "    lines = post.split('\\n')\n",
    "    for text in lines:\n",
    "        if text == '':\n",
    "            continue\n",
    "        document = types.Document(\n",
    "            content=text,\n",
    "            type=enums.Document.Type.PLAIN_TEXT)\n",
    "        sentiment = client.analyze_sentiment(document=document).document_sentiment\n",
    "        print(\"OP:\", op)\n",
    "        print(\"Text:\", text)\n",
    "        print('Sentiment: {}, {}'.format(sentiment.score, sentiment.magnitude))\n",
    "        print(\"*\"*40)"
   ]
  },
  {
   "cell_type": "code",
   "execution_count": null,
   "metadata": {},
   "outputs": [],
   "source": []
  }
 ],
 "metadata": {
  "kernelspec": {
   "display_name": "Python 3",
   "language": "python",
   "name": "python3"
  },
  "language_info": {
   "codemirror_mode": {
    "name": "ipython",
    "version": 3
   },
   "file_extension": ".py",
   "mimetype": "text/x-python",
   "name": "python",
   "nbconvert_exporter": "python",
   "pygments_lexer": "ipython3",
   "version": "3.6.6"
  }
 },
 "nbformat": 4,
 "nbformat_minor": 2
}
