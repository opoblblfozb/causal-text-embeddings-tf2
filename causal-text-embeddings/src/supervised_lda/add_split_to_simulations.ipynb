{
 "cells": [
  {
   "cell_type": "code",
   "execution_count": 4,
   "metadata": {},
   "outputs": [],
   "source": [
    "import os\n",
    "import numpy as np\n",
    "import pandas as pd"
   ]
  },
  {
   "cell_type": "code",
   "execution_count": 8,
   "metadata": {},
   "outputs": [],
   "source": [
    "base_sim_dir = '../../dat/sim/'\n",
    "datasets = ['reddit_subreddit_based/subreddits[13, 6, 8]', 'peerread_buzzytitle_based']\n",
    "mode = 'modesimple'\n",
    "\n",
    "for dataset in datasets:\n",
    "    simdir = os.path.join(base_sim_dir, dataset, mode)\n",
    "    for simfile in os.listdir(simdir):\n",
    "        df = pd.read_csv(os.path.join(simdir, simfile), sep='\\t')\n",
    "        df['split'] = np.random.randint(0, 10, size=df.shape[0])\n",
    "        df.to_csv(os.path.join(simdir, simfile),sep='\\t')"
   ]
  },
  {
   "cell_type": "code",
   "execution_count": null,
   "metadata": {},
   "outputs": [],
   "source": []
  }
 ],
 "metadata": {
  "kernelspec": {
   "display_name": "Python 3",
   "language": "python",
   "name": "python3"
  },
  "language_info": {
   "codemirror_mode": {
    "name": "ipython",
    "version": 3
   },
   "file_extension": ".py",
   "mimetype": "text/x-python",
   "name": "python",
   "nbconvert_exporter": "python",
   "pygments_lexer": "ipython3",
   "version": "3.6.8"
  }
 },
 "nbformat": 4,
 "nbformat_minor": 2
}
